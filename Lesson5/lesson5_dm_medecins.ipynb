{
 "cells": [
  {
   "cell_type": "markdown",
   "metadata": {},
   "source": [
    "<div align='center'><h2>DM Lesson 5</h2></div>"
   ]
  },
  {
   "cell_type": "markdown",
   "metadata": {},
   "source": [
    "**Importation des librairies**"
   ]
  },
  {
   "cell_type": "code",
   "execution_count": 156,
   "metadata": {},
   "outputs": [],
   "source": [
    "import pandas as pd\n",
    "import seaborn as sns\n",
    "import matplotlib.pyplot as plt"
   ]
  },
  {
   "cell_type": "markdown",
   "metadata": {},
   "source": [
    "**Extraction des données**"
   ]
  },
  {
   "cell_type": "markdown",
   "metadata": {},
   "source": [
    "<div align='justify'>Les données sont issues de :  \n",
    "https://www.ameli.fr/l-assurance-maladie/statistiques-et-publications/donnees-statistiques/professionnels-de-sante-liberaux/honoraires/honoraires-totaux-et-moyens.php.</div>"
   ]
  },
  {
   "cell_type": "markdown",
   "metadata": {},
   "source": [
    "**Données sur les honoraires totaux des professionnels de santé par département et par spécialité**"
   ]
  },
  {
   "cell_type": "code",
   "execution_count": 157,
   "metadata": {},
   "outputs": [],
   "source": [
    "df = pd.read_excel(\"table_honoraires.xls\", 2)"
   ]
  },
  {
   "cell_type": "code",
   "execution_count": 158,
   "metadata": {},
   "outputs": [
    {
     "data": {
      "text/plain": [
       "Spécialistes                           object\n",
       "DEPARTEMENT                            object\n",
       "EFFECTIFS                               int64\n",
       "HONORAIRES SANS DEPASSEMENT (Euros)    object\n",
       "DEPASSEMENTS (Euros)                   object\n",
       "FRAIS DE DEPLACEMENT (Euros)           object\n",
       "TOTAL DES HONORAIRES (Euros)           object\n",
       "dtype: object"
      ]
     },
     "execution_count": 158,
     "metadata": {},
     "output_type": "execute_result"
    }
   ],
   "source": [
    "df.dtypes"
   ]
  },
  {
   "cell_type": "markdown",
   "metadata": {},
   "source": [
    "<div align='justify'>Il y a des valeurs non communiquées \"nc\" vont poser problème et ne seront pas utiles pour étudier le lien entre les effectifs et les dépassements d'honoraires. Nous allons donc les supprimer.</div>"
   ]
  },
  {
   "cell_type": "code",
   "execution_count": 160,
   "metadata": {},
   "outputs": [],
   "source": [
    "df_clean = df[df['DEPASSEMENTS (Euros)'] != 'nc']"
   ]
  },
  {
   "cell_type": "markdown",
   "metadata": {},
   "source": [
    "<div align='justify'>La variable \"DEPASSEMENTS (Euros)\" a ensuite été convertie en valeurs numériques.</div>"
   ]
  },
  {
   "cell_type": "code",
   "execution_count": 161,
   "metadata": {},
   "outputs": [
    {
     "name": "stderr",
     "output_type": "stream",
     "text": [
      "/anaconda3/lib/python3.6/site-packages/ipykernel_launcher.py:1: SettingWithCopyWarning: \n",
      "A value is trying to be set on a copy of a slice from a DataFrame.\n",
      "Try using .loc[row_indexer,col_indexer] = value instead\n",
      "\n",
      "See the caveats in the documentation: http://pandas.pydata.org/pandas-docs/stable/user_guide/indexing.html#returning-a-view-versus-a-copy\n",
      "  \"\"\"Entry point for launching an IPython kernel.\n"
     ]
    }
   ],
   "source": [
    "df_clean['DEPASSEMENTS (Euros)'] = pd.to_numeric(\n",
    "    df_clean['DEPASSEMENTS (Euros)'])"
   ]
  },
  {
   "cell_type": "code",
   "execution_count": 162,
   "metadata": {},
   "outputs": [
    {
     "data": {
      "text/html": [
       "<div>\n",
       "<style scoped>\n",
       "    .dataframe tbody tr th:only-of-type {\n",
       "        vertical-align: middle;\n",
       "    }\n",
       "\n",
       "    .dataframe tbody tr th {\n",
       "        vertical-align: top;\n",
       "    }\n",
       "\n",
       "    .dataframe thead th {\n",
       "        text-align: right;\n",
       "    }\n",
       "</style>\n",
       "<table border=\"1\" class=\"dataframe\">\n",
       "  <thead>\n",
       "    <tr style=\"text-align: right;\">\n",
       "      <th></th>\n",
       "      <th>EFFECTIFS</th>\n",
       "      <th>DEPASSEMENTS (Euros)</th>\n",
       "    </tr>\n",
       "  </thead>\n",
       "  <tbody>\n",
       "    <tr>\n",
       "      <th>count</th>\n",
       "      <td>3380.000000</td>\n",
       "      <td>3.380000e+03</td>\n",
       "    </tr>\n",
       "    <tr>\n",
       "      <th>mean</th>\n",
       "      <td>224.367751</td>\n",
       "      <td>9.074740e+06</td>\n",
       "    </tr>\n",
       "    <tr>\n",
       "      <th>std</th>\n",
       "      <td>3084.021549</td>\n",
       "      <td>1.037291e+08</td>\n",
       "    </tr>\n",
       "    <tr>\n",
       "      <th>min</th>\n",
       "      <td>0.000000</td>\n",
       "      <td>0.000000e+00</td>\n",
       "    </tr>\n",
       "    <tr>\n",
       "      <th>25%</th>\n",
       "      <td>0.000000</td>\n",
       "      <td>0.000000e+00</td>\n",
       "    </tr>\n",
       "    <tr>\n",
       "      <th>50%</th>\n",
       "      <td>15.000000</td>\n",
       "      <td>7.355036e+04</td>\n",
       "    </tr>\n",
       "    <tr>\n",
       "      <th>75%</th>\n",
       "      <td>43.000000</td>\n",
       "      <td>1.511962e+06</td>\n",
       "    </tr>\n",
       "    <tr>\n",
       "      <th>max</th>\n",
       "      <td>114030.000000</td>\n",
       "      <td>2.996448e+09</td>\n",
       "    </tr>\n",
       "  </tbody>\n",
       "</table>\n",
       "</div>"
      ],
      "text/plain": [
       "           EFFECTIFS  DEPASSEMENTS (Euros)\n",
       "count    3380.000000          3.380000e+03\n",
       "mean      224.367751          9.074740e+06\n",
       "std      3084.021549          1.037291e+08\n",
       "min         0.000000          0.000000e+00\n",
       "25%         0.000000          0.000000e+00\n",
       "50%        15.000000          7.355036e+04\n",
       "75%        43.000000          1.511962e+06\n",
       "max    114030.000000          2.996448e+09"
      ]
     },
     "execution_count": 162,
     "metadata": {},
     "output_type": "execute_result"
    }
   ],
   "source": [
    "df_clean.describe()"
   ]
  },
  {
   "cell_type": "code",
   "execution_count": 163,
   "metadata": {},
   "outputs": [
    {
     "data": {
      "text/html": [
       "<div>\n",
       "<style scoped>\n",
       "    .dataframe tbody tr th:only-of-type {\n",
       "        vertical-align: middle;\n",
       "    }\n",
       "\n",
       "    .dataframe tbody tr th {\n",
       "        vertical-align: top;\n",
       "    }\n",
       "\n",
       "    .dataframe thead th {\n",
       "        text-align: right;\n",
       "    }\n",
       "</style>\n",
       "<table border=\"1\" class=\"dataframe\">\n",
       "  <thead>\n",
       "    <tr style=\"text-align: right;\">\n",
       "      <th></th>\n",
       "      <th>Spécialistes</th>\n",
       "      <th>DEPARTEMENT</th>\n",
       "      <th>EFFECTIFS</th>\n",
       "      <th>HONORAIRES SANS DEPASSEMENT (Euros)</th>\n",
       "      <th>DEPASSEMENTS (Euros)</th>\n",
       "      <th>FRAIS DE DEPLACEMENT (Euros)</th>\n",
       "      <th>TOTAL DES HONORAIRES (Euros)</th>\n",
       "    </tr>\n",
       "  </thead>\n",
       "  <tbody>\n",
       "    <tr>\n",
       "      <th>8</th>\n",
       "      <td>02- Anesthésie-réanimation chirurgicale</td>\n",
       "      <td>09- Ariège</td>\n",
       "      <td>0</td>\n",
       "      <td>0</td>\n",
       "      <td>0.00</td>\n",
       "      <td>0</td>\n",
       "      <td>0</td>\n",
       "    </tr>\n",
       "    <tr>\n",
       "      <th>48</th>\n",
       "      <td>02- Anesthésie-réanimation chirurgicale</td>\n",
       "      <td>48- Lozère</td>\n",
       "      <td>0</td>\n",
       "      <td>22499.3</td>\n",
       "      <td>1789.61</td>\n",
       "      <td>3.81</td>\n",
       "      <td>24292.7</td>\n",
       "    </tr>\n",
       "    <tr>\n",
       "      <th>101</th>\n",
       "      <td>02- Anesthésie-réanimation chirurgicale</td>\n",
       "      <td>976- Mayotte</td>\n",
       "      <td>0</td>\n",
       "      <td>0</td>\n",
       "      <td>0.00</td>\n",
       "      <td>0</td>\n",
       "      <td>0</td>\n",
       "    </tr>\n",
       "    <tr>\n",
       "      <th>104</th>\n",
       "      <td>20- Réanimation médicale</td>\n",
       "      <td>01- Ain</td>\n",
       "      <td>0</td>\n",
       "      <td>0</td>\n",
       "      <td>0.00</td>\n",
       "      <td>0</td>\n",
       "      <td>0</td>\n",
       "    </tr>\n",
       "    <tr>\n",
       "      <th>105</th>\n",
       "      <td>20- Réanimation médicale</td>\n",
       "      <td>02- Aisne</td>\n",
       "      <td>0</td>\n",
       "      <td>0</td>\n",
       "      <td>0.00</td>\n",
       "      <td>0</td>\n",
       "      <td>0</td>\n",
       "    </tr>\n",
       "    <tr>\n",
       "      <th>...</th>\n",
       "      <td>...</td>\n",
       "      <td>...</td>\n",
       "      <td>...</td>\n",
       "      <td>...</td>\n",
       "      <td>...</td>\n",
       "      <td>...</td>\n",
       "      <td>...</td>\n",
       "    </tr>\n",
       "    <tr>\n",
       "      <th>5659</th>\n",
       "      <td>38- Médecins biologistes</td>\n",
       "      <td>43- Haute-Loire</td>\n",
       "      <td>0</td>\n",
       "      <td>0</td>\n",
       "      <td>0.00</td>\n",
       "      <td>0</td>\n",
       "      <td>0</td>\n",
       "    </tr>\n",
       "    <tr>\n",
       "      <th>5662</th>\n",
       "      <td>38- Médecins biologistes</td>\n",
       "      <td>46- Lot</td>\n",
       "      <td>0</td>\n",
       "      <td>0</td>\n",
       "      <td>0.00</td>\n",
       "      <td>0</td>\n",
       "      <td>0</td>\n",
       "    </tr>\n",
       "    <tr>\n",
       "      <th>5664</th>\n",
       "      <td>38- Médecins biologistes</td>\n",
       "      <td>48- Lozère</td>\n",
       "      <td>0</td>\n",
       "      <td>0</td>\n",
       "      <td>0.00</td>\n",
       "      <td>0</td>\n",
       "      <td>0</td>\n",
       "    </tr>\n",
       "    <tr>\n",
       "      <th>5681</th>\n",
       "      <td>38- Médecins biologistes</td>\n",
       "      <td>65- Hautes-Pyrénées</td>\n",
       "      <td>0</td>\n",
       "      <td>0</td>\n",
       "      <td>0.00</td>\n",
       "      <td>0</td>\n",
       "      <td>0</td>\n",
       "    </tr>\n",
       "    <tr>\n",
       "      <th>5698</th>\n",
       "      <td>38- Médecins biologistes</td>\n",
       "      <td>82- Tarn-et-Garonne</td>\n",
       "      <td>0</td>\n",
       "      <td>0</td>\n",
       "      <td>0.00</td>\n",
       "      <td>0</td>\n",
       "      <td>0</td>\n",
       "    </tr>\n",
       "  </tbody>\n",
       "</table>\n",
       "<p>1382 rows × 7 columns</p>\n",
       "</div>"
      ],
      "text/plain": [
       "                                 Spécialistes          DEPARTEMENT  EFFECTIFS  \\\n",
       "8     02- Anesthésie-réanimation chirurgicale           09- Ariège          0   \n",
       "48    02- Anesthésie-réanimation chirurgicale           48- Lozère          0   \n",
       "101   02- Anesthésie-réanimation chirurgicale         976- Mayotte          0   \n",
       "104                  20- Réanimation médicale              01- Ain          0   \n",
       "105                  20- Réanimation médicale            02- Aisne          0   \n",
       "...                                       ...                  ...        ...   \n",
       "5659                 38- Médecins biologistes      43- Haute-Loire          0   \n",
       "5662                 38- Médecins biologistes              46- Lot          0   \n",
       "5664                 38- Médecins biologistes           48- Lozère          0   \n",
       "5681                 38- Médecins biologistes  65- Hautes-Pyrénées          0   \n",
       "5698                 38- Médecins biologistes  82- Tarn-et-Garonne          0   \n",
       "\n",
       "     HONORAIRES SANS DEPASSEMENT (Euros)  DEPASSEMENTS (Euros)  \\\n",
       "8                                      0                  0.00   \n",
       "48                               22499.3               1789.61   \n",
       "101                                    0                  0.00   \n",
       "104                                    0                  0.00   \n",
       "105                                    0                  0.00   \n",
       "...                                  ...                   ...   \n",
       "5659                                   0                  0.00   \n",
       "5662                                   0                  0.00   \n",
       "5664                                   0                  0.00   \n",
       "5681                                   0                  0.00   \n",
       "5698                                   0                  0.00   \n",
       "\n",
       "     FRAIS DE DEPLACEMENT (Euros) TOTAL DES HONORAIRES (Euros)  \n",
       "8                               0                            0  \n",
       "48                           3.81                      24292.7  \n",
       "101                             0                            0  \n",
       "104                             0                            0  \n",
       "105                             0                            0  \n",
       "...                           ...                          ...  \n",
       "5659                            0                            0  \n",
       "5662                            0                            0  \n",
       "5664                            0                            0  \n",
       "5681                            0                            0  \n",
       "5698                            0                            0  \n",
       "\n",
       "[1382 rows x 7 columns]"
      ]
     },
     "execution_count": 163,
     "metadata": {},
     "output_type": "execute_result"
    }
   ],
   "source": [
    "df_clean[df_clean['EFFECTIFS'] < 4]"
   ]
  },
  {
   "cell_type": "markdown",
   "metadata": {},
   "source": [
    "On note également que certains départements ne contiennent aucun spécialiste :\n",
    "* Et n'ont donc aucun dépassement d'honoraires puisque pas de médecins. Ces lignes sont à supprimer puisqu'il est plus cohérent de comparer des départements qui contiennent au moins 3 médecins. \n",
    "* Et ont tout de même une valeur pour les dépassements d'honoraires, ce qui n'est pas logique. Ces lignes sont à supprimer. "
   ]
  },
  {
   "cell_type": "code",
   "execution_count": 164,
   "metadata": {},
   "outputs": [],
   "source": [
    "df_clean = df_clean.drop(df_clean[df_clean['EFFECTIFS'] < 4].index)\n",
    "df_clean = df_clean.drop(\n",
    "    df_clean[df_clean[\"DEPASSEMENTS (Euros)\"] == 0.0].index)"
   ]
  },
  {
   "cell_type": "code",
   "execution_count": 165,
   "metadata": {},
   "outputs": [
    {
     "data": {
      "text/html": [
       "<div>\n",
       "<style scoped>\n",
       "    .dataframe tbody tr th:only-of-type {\n",
       "        vertical-align: middle;\n",
       "    }\n",
       "\n",
       "    .dataframe tbody tr th {\n",
       "        vertical-align: top;\n",
       "    }\n",
       "\n",
       "    .dataframe thead th {\n",
       "        text-align: right;\n",
       "    }\n",
       "</style>\n",
       "<table border=\"1\" class=\"dataframe\">\n",
       "  <thead>\n",
       "    <tr style=\"text-align: right;\">\n",
       "      <th></th>\n",
       "      <th>EFFECTIFS</th>\n",
       "      <th>DEPASSEMENTS (Euros)</th>\n",
       "    </tr>\n",
       "  </thead>\n",
       "  <tbody>\n",
       "    <tr>\n",
       "      <th>count</th>\n",
       "      <td>1994.000000</td>\n",
       "      <td>1.994000e+03</td>\n",
       "    </tr>\n",
       "    <tr>\n",
       "      <th>mean</th>\n",
       "      <td>380.292879</td>\n",
       "      <td>1.538240e+07</td>\n",
       "    </tr>\n",
       "    <tr>\n",
       "      <th>std</th>\n",
       "      <td>4008.275498</td>\n",
       "      <td>1.347046e+08</td>\n",
       "    </tr>\n",
       "    <tr>\n",
       "      <th>min</th>\n",
       "      <td>5.000000</td>\n",
       "      <td>1.260000e+00</td>\n",
       "    </tr>\n",
       "    <tr>\n",
       "      <th>25%</th>\n",
       "      <td>18.000000</td>\n",
       "      <td>2.290734e+05</td>\n",
       "    </tr>\n",
       "    <tr>\n",
       "      <th>50%</th>\n",
       "      <td>33.000000</td>\n",
       "      <td>1.136501e+06</td>\n",
       "    </tr>\n",
       "    <tr>\n",
       "      <th>75%</th>\n",
       "      <td>87.000000</td>\n",
       "      <td>3.771391e+06</td>\n",
       "    </tr>\n",
       "    <tr>\n",
       "      <th>max</th>\n",
       "      <td>114030.000000</td>\n",
       "      <td>2.996448e+09</td>\n",
       "    </tr>\n",
       "  </tbody>\n",
       "</table>\n",
       "</div>"
      ],
      "text/plain": [
       "           EFFECTIFS  DEPASSEMENTS (Euros)\n",
       "count    1994.000000          1.994000e+03\n",
       "mean      380.292879          1.538240e+07\n",
       "std      4008.275498          1.347046e+08\n",
       "min         5.000000          1.260000e+00\n",
       "25%        18.000000          2.290734e+05\n",
       "50%        33.000000          1.136501e+06\n",
       "75%        87.000000          3.771391e+06\n",
       "max    114030.000000          2.996448e+09"
      ]
     },
     "execution_count": 165,
     "metadata": {},
     "output_type": "execute_result"
    }
   ],
   "source": [
    "df_clean.describe()"
   ]
  },
  {
   "cell_type": "markdown",
   "metadata": {},
   "source": [
    "**Peut-on établir un lien entre la densité de médecins par spécialité et par territoire et la pratique du dépassement d'honoraires ?**"
   ]
  },
  {
   "cell_type": "markdown",
   "metadata": {},
   "source": [
    "Première observation des liens entre dépassements d'honoraires et densité des médecins par départements et spécialités."
   ]
  },
  {
   "cell_type": "code",
   "execution_count": 166,
   "metadata": {},
   "outputs": [
    {
     "data": {
      "text/plain": [
       "<matplotlib.axes._subplots.AxesSubplot at 0x1a1a0e74e0>"
      ]
     },
     "execution_count": 166,
     "metadata": {},
     "output_type": "execute_result"
    },
    {
     "data": {
      "image/png": "[encoded data removed]",
      "text/plain": [
       "<Figure size 432x288 with 1 Axes>"
      ]
     },
     "metadata": {},
     "output_type": "display_data"
    }
   ],
   "source": [
    "sns.regplot(x=df_clean[\"EFFECTIFS\"],\n",
    "            y=df_clean[\"DEPASSEMENTS (Euros)\"], ci=None)"
   ]
  },
  {
   "cell_type": "markdown",
   "metadata": {},
   "source": [
    "<div align='justify'>Il est difficile d'observer la corrélation à cause de certains points extrêmes. Nous allons filtrer les données sur les effectifs de médecins de manière à éliminer les individus extrêmes/particuliers. En ne gardant que les départements où le nombre de médecins par spécialités est inférieur à 100, on se rapproche de la normalité.</div>"
   ]
  },
  {
   "cell_type": "code",
   "execution_count": 167,
   "metadata": {},
   "outputs": [],
   "source": [
    "df_clean = df_clean[df_clean[\"EFFECTIFS\"] < 100]"
   ]
  },
  {
   "cell_type": "code",
   "execution_count": 168,
   "metadata": {},
   "outputs": [
    {
     "name": "stderr",
     "output_type": "stream",
     "text": [
      "/anaconda3/lib/python3.6/site-packages/scipy/stats/stats.py:1713: FutureWarning: Using a non-tuple sequence for multidimensional indexing is deprecated; use `arr[tuple(seq)]` instead of `arr[seq]`. In the future this will be interpreted as an array index, `arr[np.array(seq)]`, which will result either in an error or a different result.\n",
      "  return np.add.reduce(sorted[indexer] * weights, axis=axis) / sumval\n"
     ]
    },
    {
     "data": {
      "text/plain": [
       "<matplotlib.axes._subplots.AxesSubplot at 0x1a1ce1fbe0>"
      ]
     },
     "execution_count": 168,
     "metadata": {},
     "output_type": "execute_result"
    },
    {
     "data": {
      "image/png": "[encoded data removed]",
      "text/plain": [
       "<Figure size 432x288 with 1 Axes>"
      ]
     },
     "metadata": {},
     "output_type": "display_data"
    }
   ],
   "source": [
    "sns.kdeplot(df_clean[\"EFFECTIFS\"])"
   ]
  },
  {
   "cell_type": "markdown",
   "metadata": {},
   "source": [
    "Par ailleurs, observons la distribution des dépassements honoraires. "
   ]
  },
  {
   "cell_type": "code",
   "execution_count": 169,
   "metadata": {},
   "outputs": [
    {
     "name": "stderr",
     "output_type": "stream",
     "text": [
      "/anaconda3/lib/python3.6/site-packages/scipy/stats/stats.py:1713: FutureWarning: Using a non-tuple sequence for multidimensional indexing is deprecated; use `arr[tuple(seq)]` instead of `arr[seq]`. In the future this will be interpreted as an array index, `arr[np.array(seq)]`, which will result either in an error or a different result.\n",
      "  return np.add.reduce(sorted[indexer] * weights, axis=axis) / sumval\n"
     ]
    },
    {
     "data": {
      "text/plain": [
       "<matplotlib.axes._subplots.AxesSubplot at 0x1a1c87fb00>"
      ]
     },
     "execution_count": 169,
     "metadata": {},
     "output_type": "execute_result"
    },
    {
     "data": {
      "image/png": "[encoded data removed]",
      "text/plain": [
       "<Figure size 432x288 with 1 Axes>"
      ]
     },
     "metadata": {},
     "output_type": "display_data"
    }
   ],
   "source": [
    "sns.kdeplot(df_clean[\"DEPASSEMENTS (Euros)\"])"
   ]
  },
  {
   "cell_type": "code",
   "execution_count": 170,
   "metadata": {},
   "outputs": [],
   "source": [
    "df_clean = df_clean[df_clean[\"DEPASSEMENTS (Euros)\"] < 0.75e7]"
   ]
  },
  {
   "cell_type": "code",
   "execution_count": 171,
   "metadata": {},
   "outputs": [
    {
     "name": "stderr",
     "output_type": "stream",
     "text": [
      "/anaconda3/lib/python3.6/site-packages/scipy/stats/stats.py:1713: FutureWarning: Using a non-tuple sequence for multidimensional indexing is deprecated; use `arr[tuple(seq)]` instead of `arr[seq]`. In the future this will be interpreted as an array index, `arr[np.array(seq)]`, which will result either in an error or a different result.\n",
      "  return np.add.reduce(sorted[indexer] * weights, axis=axis) / sumval\n"
     ]
    },
    {
     "data": {
      "text/plain": [
       "<matplotlib.axes._subplots.AxesSubplot at 0x1a1c894710>"
      ]
     },
     "execution_count": 171,
     "metadata": {},
     "output_type": "execute_result"
    },
    {
     "data": {
      "image/png": "[encoded data removed]",
      "text/plain": [
       "<Figure size 432x288 with 1 Axes>"
      ]
     },
     "metadata": {},
     "output_type": "display_data"
    }
   ],
   "source": [
    "sns.kdeplot(df_clean[\"DEPASSEMENTS (Euros)\"])"
   ]
  },
  {
   "cell_type": "code",
   "execution_count": 172,
   "metadata": {},
   "outputs": [
    {
     "data": {
      "text/plain": [
       "<matplotlib.axes._subplots.AxesSubplot at 0x1a1d12fd30>"
      ]
     },
     "execution_count": 172,
     "metadata": {},
     "output_type": "execute_result"
    },
    {
     "data": {
      "image/png": "[encoded data removed]",
      "text/plain": [
       "<Figure size 432x288 with 1 Axes>"
      ]
     },
     "metadata": {},
     "output_type": "display_data"
    }
   ],
   "source": [
    "sns.regplot(x=df_clean[\"EFFECTIFS\"],\n",
    "            y=df_clean[\"DEPASSEMENTS (Euros)\"], ci=None)"
   ]
  },
  {
   "cell_type": "markdown",
   "metadata": {},
   "source": [
    "<div align='justify'>Globalement, on ne voit pas apparaître de lien entre la densité de médecins par spécialité et par département et le dépassement d'honoraires. Peut-être faudrait-il étudier ces liens par spécialité.</div>"
   ]
  },
  {
   "cell_type": "code",
   "execution_count": 173,
   "metadata": {},
   "outputs": [
    {
     "data": {
      "text/html": [
       "<div>\n",
       "<style scoped>\n",
       "    .dataframe tbody tr th:only-of-type {\n",
       "        vertical-align: middle;\n",
       "    }\n",
       "\n",
       "    .dataframe tbody tr th {\n",
       "        vertical-align: top;\n",
       "    }\n",
       "\n",
       "    .dataframe thead th {\n",
       "        text-align: right;\n",
       "    }\n",
       "</style>\n",
       "<table border=\"1\" class=\"dataframe\">\n",
       "  <thead>\n",
       "    <tr style=\"text-align: right;\">\n",
       "      <th></th>\n",
       "      <th>EFFECTIFS</th>\n",
       "      <th>DEPASSEMENTS (Euros)</th>\n",
       "    </tr>\n",
       "  </thead>\n",
       "  <tbody>\n",
       "    <tr>\n",
       "      <th>EFFECTIFS</th>\n",
       "      <td>1.000000</td>\n",
       "      <td>0.446958</td>\n",
       "    </tr>\n",
       "    <tr>\n",
       "      <th>DEPASSEMENTS (Euros)</th>\n",
       "      <td>0.446958</td>\n",
       "      <td>1.000000</td>\n",
       "    </tr>\n",
       "  </tbody>\n",
       "</table>\n",
       "</div>"
      ],
      "text/plain": [
       "                      EFFECTIFS  DEPASSEMENTS (Euros)\n",
       "EFFECTIFS              1.000000              0.446958\n",
       "DEPASSEMENTS (Euros)   0.446958              1.000000"
      ]
     },
     "execution_count": 173,
     "metadata": {},
     "output_type": "execute_result"
    }
   ],
   "source": [
    "df_clean.corr(method='pearson')"
   ]
  },
  {
   "cell_type": "markdown",
   "metadata": {},
   "source": [
    "Le coefficient de corrélation entre les deux variables est de 0.447, ce qui est faible mais peut suggérer une tendance positive. Cela est corroboré par le graphique représentant les dépassements d'honoraires en fonction des effectifs.  \n",
    "Dans les départements aux effectifs faibles, il y a des médecins ayant des dépassements d'honoraires importants, tout comme dans les départements aux effectifs proche de 100. "
   ]
  },
  {
   "cell_type": "markdown",
   "metadata": {},
   "source": [
    "**Est-ce dans les territoires où la densité est la plus forte que les médecins pratiquent le moins les dépassements d'honoraires ?**"
   ]
  },
  {
   "cell_type": "markdown",
   "metadata": {},
   "source": [
    "Grâce aux résultats précédents, on peut dire que dans les départements où la densité de médecins est la plus forte, les médecins pratiquent des dépassements d'honoraires aussi bien faibles qu'élevés."
   ]
  },
  {
   "cell_type": "markdown",
   "metadata": {},
   "source": [
    "**Est-ce que la densité de certains médecins / praticiens est corrélée à la densité de population pour certaines classes d'âges (bébé/pédiatre, personnes âgées / infirmiers etc...) ?**"
   ]
  },
  {
   "cell_type": "markdown",
   "metadata": {},
   "source": [
    "Téléchargeons le jeu de données de l'INSEE répertoriant la densité de population par département en 2017."
   ]
  },
  {
   "cell_type": "code",
   "execution_count": 188,
   "metadata": {},
   "outputs": [],
   "source": [
    "pop = pd.read_excel(\"population.xls\", '2017', header=4)"
   ]
  },
  {
   "cell_type": "code",
   "execution_count": 189,
   "metadata": {},
   "outputs": [
    {
     "data": {
      "text/html": [
       "<div>\n",
       "<style scoped>\n",
       "    .dataframe tbody tr th:only-of-type {\n",
       "        vertical-align: middle;\n",
       "    }\n",
       "\n",
       "    .dataframe tbody tr th {\n",
       "        vertical-align: top;\n",
       "    }\n",
       "\n",
       "    .dataframe thead th {\n",
       "        text-align: right;\n",
       "    }\n",
       "</style>\n",
       "<table border=\"1\" class=\"dataframe\">\n",
       "  <thead>\n",
       "    <tr style=\"text-align: right;\">\n",
       "      <th></th>\n",
       "      <th>Unnamed: 0</th>\n",
       "      <th>Unnamed: 1</th>\n",
       "      <th>0 à 4 ans</th>\n",
       "      <th>5 à 9 ans</th>\n",
       "      <th>10 à 14 ans</th>\n",
       "      <th>15 à 19 ans</th>\n",
       "      <th>20 à 24 ans</th>\n",
       "      <th>25 à 29 ans</th>\n",
       "      <th>30 à 34 ans</th>\n",
       "      <th>35 à 39 ans</th>\n",
       "      <th>...</th>\n",
       "      <th>55 à 59 ans.2</th>\n",
       "      <th>60 à 64 ans.2</th>\n",
       "      <th>65 à 69 ans.2</th>\n",
       "      <th>70 à 74 ans.2</th>\n",
       "      <th>75 à 79 ans.2</th>\n",
       "      <th>80 à 84 ans.2</th>\n",
       "      <th>85 à 89 ans.2</th>\n",
       "      <th>90 à 94 ans.2</th>\n",
       "      <th>95 ans et plus.2</th>\n",
       "      <th>Total.2</th>\n",
       "    </tr>\n",
       "  </thead>\n",
       "  <tbody>\n",
       "    <tr>\n",
       "      <th>0</th>\n",
       "      <td>01</td>\n",
       "      <td>Ain</td>\n",
       "      <td>39532.0</td>\n",
       "      <td>44621.0</td>\n",
       "      <td>44591.0</td>\n",
       "      <td>38959.0</td>\n",
       "      <td>30145.0</td>\n",
       "      <td>35691.0</td>\n",
       "      <td>40544.0</td>\n",
       "      <td>42670.0</td>\n",
       "      <td>...</td>\n",
       "      <td>20777.0</td>\n",
       "      <td>19134.0</td>\n",
       "      <td>18201.0</td>\n",
       "      <td>13057.0</td>\n",
       "      <td>9730.0</td>\n",
       "      <td>9081.0</td>\n",
       "      <td>6915.0</td>\n",
       "      <td>3593.0</td>\n",
       "      <td>1049.0</td>\n",
       "      <td>326447.0</td>\n",
       "    </tr>\n",
       "    <tr>\n",
       "      <th>1</th>\n",
       "      <td>02</td>\n",
       "      <td>Aisne</td>\n",
       "      <td>31488.0</td>\n",
       "      <td>35191.0</td>\n",
       "      <td>35324.0</td>\n",
       "      <td>33021.0</td>\n",
       "      <td>25493.0</td>\n",
       "      <td>28739.0</td>\n",
       "      <td>31382.0</td>\n",
       "      <td>31770.0</td>\n",
       "      <td>...</td>\n",
       "      <td>18316.0</td>\n",
       "      <td>18183.0</td>\n",
       "      <td>17885.0</td>\n",
       "      <td>11595.0</td>\n",
       "      <td>9465.0</td>\n",
       "      <td>9409.0</td>\n",
       "      <td>7140.0</td>\n",
       "      <td>3593.0</td>\n",
       "      <td>833.0</td>\n",
       "      <td>273944.0</td>\n",
       "    </tr>\n",
       "    <tr>\n",
       "      <th>2</th>\n",
       "      <td>03</td>\n",
       "      <td>Allier</td>\n",
       "      <td>15432.0</td>\n",
       "      <td>17462.0</td>\n",
       "      <td>18776.0</td>\n",
       "      <td>17865.0</td>\n",
       "      <td>14344.0</td>\n",
       "      <td>15294.0</td>\n",
       "      <td>16322.0</td>\n",
       "      <td>17564.0</td>\n",
       "      <td>...</td>\n",
       "      <td>12416.0</td>\n",
       "      <td>13170.0</td>\n",
       "      <td>13552.0</td>\n",
       "      <td>10313.0</td>\n",
       "      <td>8303.0</td>\n",
       "      <td>8407.0</td>\n",
       "      <td>6657.0</td>\n",
       "      <td>3311.0</td>\n",
       "      <td>946.0</td>\n",
       "      <td>175805.0</td>\n",
       "    </tr>\n",
       "    <tr>\n",
       "      <th>3</th>\n",
       "      <td>04</td>\n",
       "      <td>Alpes-de-Haute-Provence</td>\n",
       "      <td>7707.0</td>\n",
       "      <td>8795.0</td>\n",
       "      <td>9531.0</td>\n",
       "      <td>8645.0</td>\n",
       "      <td>6251.0</td>\n",
       "      <td>7253.0</td>\n",
       "      <td>8302.0</td>\n",
       "      <td>8745.0</td>\n",
       "      <td>...</td>\n",
       "      <td>6090.0</td>\n",
       "      <td>5883.0</td>\n",
       "      <td>6211.0</td>\n",
       "      <td>4995.0</td>\n",
       "      <td>3800.0</td>\n",
       "      <td>3408.0</td>\n",
       "      <td>2540.0</td>\n",
       "      <td>1487.0</td>\n",
       "      <td>428.0</td>\n",
       "      <td>83245.0</td>\n",
       "    </tr>\n",
       "    <tr>\n",
       "      <th>4</th>\n",
       "      <td>05</td>\n",
       "      <td>Hautes-Alpes</td>\n",
       "      <td>7096.0</td>\n",
       "      <td>8073.0</td>\n",
       "      <td>8452.0</td>\n",
       "      <td>7493.0</td>\n",
       "      <td>5784.0</td>\n",
       "      <td>6733.0</td>\n",
       "      <td>7679.0</td>\n",
       "      <td>8539.0</td>\n",
       "      <td>...</td>\n",
       "      <td>5098.0</td>\n",
       "      <td>5178.0</td>\n",
       "      <td>5031.0</td>\n",
       "      <td>3694.0</td>\n",
       "      <td>2939.0</td>\n",
       "      <td>2780.0</td>\n",
       "      <td>2088.0</td>\n",
       "      <td>1241.0</td>\n",
       "      <td>442.0</td>\n",
       "      <td>72070.0</td>\n",
       "    </tr>\n",
       "  </tbody>\n",
       "</table>\n",
       "<p>5 rows × 65 columns</p>\n",
       "</div>"
      ],
      "text/plain": [
       "  Unnamed: 0               Unnamed: 1  0 à 4 ans  5 à 9 ans  10 à 14 ans  \\\n",
       "0         01                      Ain    39532.0    44621.0      44591.0   \n",
       "1         02                    Aisne    31488.0    35191.0      35324.0   \n",
       "2         03                   Allier    15432.0    17462.0      18776.0   \n",
       "3         04  Alpes-de-Haute-Provence     7707.0     8795.0       9531.0   \n",
       "4         05             Hautes-Alpes     7096.0     8073.0       8452.0   \n",
       "\n",
       "   15 à 19 ans  20 à 24 ans  25 à 29 ans  30 à 34 ans  35 à 39 ans  ...  \\\n",
       "0      38959.0      30145.0      35691.0      40544.0      42670.0  ...   \n",
       "1      33021.0      25493.0      28739.0      31382.0      31770.0  ...   \n",
       "2      17865.0      14344.0      15294.0      16322.0      17564.0  ...   \n",
       "3       8645.0       6251.0       7253.0       8302.0       8745.0  ...   \n",
       "4       7493.0       5784.0       6733.0       7679.0       8539.0  ...   \n",
       "\n",
       "   55 à 59 ans.2  60 à 64 ans.2  65 à 69 ans.2  70 à 74 ans.2  75 à 79 ans.2  \\\n",
       "0        20777.0        19134.0        18201.0        13057.0         9730.0   \n",
       "1        18316.0        18183.0        17885.0        11595.0         9465.0   \n",
       "2        12416.0        13170.0        13552.0        10313.0         8303.0   \n",
       "3         6090.0         5883.0         6211.0         4995.0         3800.0   \n",
       "4         5098.0         5178.0         5031.0         3694.0         2939.0   \n",
       "\n",
       "   80 à 84 ans.2  85 à 89 ans.2  90 à 94 ans.2  95 ans et plus.2   Total.2  \n",
       "0         9081.0         6915.0         3593.0            1049.0  326447.0  \n",
       "1         9409.0         7140.0         3593.0             833.0  273944.0  \n",
       "2         8407.0         6657.0         3311.0             946.0  175805.0  \n",
       "3         3408.0         2540.0         1487.0             428.0   83245.0  \n",
       "4         2780.0         2088.0         1241.0             442.0   72070.0  \n",
       "\n",
       "[5 rows x 65 columns]"
      ]
     },
     "execution_count": 189,
     "metadata": {},
     "output_type": "execute_result"
    }
   ],
   "source": [
    "pop.head()"
   ]
  },
  {
   "cell_type": "code",
   "execution_count": 190,
   "metadata": {},
   "outputs": [],
   "source": [
    "pop = pop.rename(columns={\"Unnamed: 0\": \"dep_id\", \"Unnamed: 1\": \"dep\"})"
   ]
  },
  {
   "cell_type": "code",
   "execution_count": 191,
   "metadata": {},
   "outputs": [],
   "source": [
    "pop['DEPARTEMENT'] = pop.dep_id.astype(\n",
    "    str).str.cat(pop.dep.astype(str), sep='- ')"
   ]
  },
  {
   "cell_type": "code",
   "execution_count": 192,
   "metadata": {},
   "outputs": [],
   "source": [
    "pop = pop.drop([\"dep_id\", \"dep\", \"Total.2\"], axis=1)"
   ]
  },
  {
   "cell_type": "code",
   "execution_count": 195,
   "metadata": {},
   "outputs": [],
   "source": [
    "tab = pd.merge(df, pop, on=['DEPARTEMENT'])"
   ]
  },
  {
   "cell_type": "markdown",
   "metadata": {},
   "source": [
    "*Lien entre la densité de pédiatre et la densité de bébés*  \n",
    "Les pédiatres sont indiqués par '12- Pédiatrie' dans la colonne 'Spécialistes'."
   ]
  },
  {
   "cell_type": "code",
   "execution_count": 197,
   "metadata": {},
   "outputs": [],
   "source": [
    "tab_enfant = tab[tab['Spécialistes'] == '12- Pédiatrie']"
   ]
  },
  {
   "cell_type": "code",
   "execution_count": 200,
   "metadata": {},
   "outputs": [
    {
     "data": {
      "text/plain": [
       "<matplotlib.axes._subplots.AxesSubplot at 0x1a1d906c50>"
      ]
     },
     "execution_count": 200,
     "metadata": {},
     "output_type": "execute_result"
    },
    {
     "data": {
      "image/png": "[encoded data removed]",
      "text/plain": [
       "<Figure size 432x288 with 1 Axes>"
      ]
     },
     "metadata": {},
     "output_type": "display_data"
    }
   ],
   "source": [
    "sns.regplot(x=tab_enfant[\"EFFECTIFS\"], y=tab_enfant[\"0 à 4 ans\"], ci=None)"
   ]
  },
  {
   "cell_type": "code",
   "execution_count": 209,
   "metadata": {},
   "outputs": [
    {
     "data": {
      "text/plain": [
       "0.8705439146165433"
      ]
     },
     "execution_count": 209,
     "metadata": {},
     "output_type": "execute_result"
    }
   ],
   "source": [
    "tab_enfant['EFFECTIFS'].corr(tab_enfant['0 à 4 ans'])"
   ]
  },
  {
   "cell_type": "markdown",
   "metadata": {},
   "source": [
    "Ici, la corrélation est élevée. Plus il y a de bébés, plus il y a de pédiatres."
   ]
  },
  {
   "cell_type": "markdown",
   "metadata": {},
   "source": [
    "*Lien entre la densité de rhumatologues et la densité de personnes âgées*  \n",
    "Les rhumatologues sont indiqués par '14- Rhumatologie' dans la colonne 'Spécialistes'."
   ]
  },
  {
   "cell_type": "code",
   "execution_count": 207,
   "metadata": {},
   "outputs": [],
   "source": [
    "tab_age = tab[tab['Spécialistes'] == '14- Rhumatologie']"
   ]
  },
  {
   "cell_type": "code",
   "execution_count": 208,
   "metadata": {},
   "outputs": [
    {
     "data": {
      "text/plain": [
       "<matplotlib.axes._subplots.AxesSubplot at 0x1a1dfbf240>"
      ]
     },
     "execution_count": 208,
     "metadata": {},
     "output_type": "execute_result"
    },
    {
     "data": {
      "image/png": "[encoded data removed]",
      "text/plain": [
       "<Figure size 432x288 with 1 Axes>"
      ]
     },
     "metadata": {},
     "output_type": "display_data"
    }
   ],
   "source": [
    "sns.regplot(x=tab_age[\"EFFECTIFS\"], y=tab_age[\"85 à 89 ans.2\"], ci=None)"
   ]
  },
  {
   "cell_type": "code",
   "execution_count": 210,
   "metadata": {},
   "outputs": [
    {
     "data": {
      "text/plain": [
       "0.8794783246010214"
      ]
     },
     "execution_count": 210,
     "metadata": {},
     "output_type": "execute_result"
    }
   ],
   "source": [
    "tab_age['EFFECTIFS'].corr(tab_age['85 à 89 ans.2'])"
   ]
  },
  {
   "cell_type": "markdown",
   "metadata": {},
   "source": [
    "La corrélation est également élevée ici. \n",
    "Plus il y a de personnes âgées, plus il y a de rhumatologues."
   ]
  }
 ],
 "metadata": {
  "kernelspec": {
   "display_name": "Python 3",
   "language": "python",
   "name": "python3"
  },
  "language_info": {
   "codemirror_mode": {
    "name": "ipython",
    "version": 3
   },
   "file_extension": ".py",
   "mimetype": "text/x-python",
   "name": "python",
   "nbconvert_exporter": "python",
   "pygments_lexer": "ipython3",
   "version": "3.6.5"
  },
  "varInspector": {
   "cols": {
    "lenName": 16,
    "lenType": 16,
    "lenVar": 40
   },
   "kernels_config": {
    "python": {
     "delete_cmd_postfix": "",
     "delete_cmd_prefix": "del ",
     "library": "var_list.py",
     "varRefreshCmd": "print(var_dic_list())"
    },
    "r": {
     "delete_cmd_postfix": ") ",
     "delete_cmd_prefix": "rm(",
     "library": "var_list.r",
     "varRefreshCmd": "cat(var_dic_list()) "
    }
   },
   "types_to_exclude": [
    "module",
    "function",
    "builtin_function_or_method",
    "instance",
    "_Feature"
   ],
   "window_display": false
  }
 },
 "nbformat": 4,
 "nbformat_minor": 2
}
