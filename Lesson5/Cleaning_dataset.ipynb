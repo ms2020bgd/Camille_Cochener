{
 "cells": [
  {
   "cell_type": "markdown",
   "metadata": {},
   "source": [
    "## Exercice 5"
   ]
  },
  {
   "cell_type": "code",
   "execution_count": 551,
   "metadata": {},
   "outputs": [],
   "source": [
    "import pandas as pd\n",
    "from requests import get\n",
    "import requests as rq"
   ]
  },
  {
   "cell_type": "code",
   "execution_count": 552,
   "metadata": {},
   "outputs": [],
   "source": [
    "df = pd.read_csv(\"https://raw.githubusercontent.com/fspot/INFMDI-721/master/lesson5/products.csv\", sep = \";\")"
   ]
  },
  {
   "cell_type": "code",
   "execution_count": 553,
   "metadata": {},
   "outputs": [
    {
     "data": {
      "text/html": [
       "<div>\n",
       "<style scoped>\n",
       "    .dataframe tbody tr th:only-of-type {\n",
       "        vertical-align: middle;\n",
       "    }\n",
       "\n",
       "    .dataframe tbody tr th {\n",
       "        vertical-align: top;\n",
       "    }\n",
       "\n",
       "    .dataframe thead th {\n",
       "        text-align: right;\n",
       "    }\n",
       "</style>\n",
       "<table border=\"1\" class=\"dataframe\">\n",
       "  <thead>\n",
       "    <tr style=\"text-align: right;\">\n",
       "      <th></th>\n",
       "      <th>username</th>\n",
       "      <th>ip_address</th>\n",
       "      <th>product</th>\n",
       "      <th>price</th>\n",
       "      <th>infos</th>\n",
       "    </tr>\n",
       "  </thead>\n",
       "  <tbody>\n",
       "    <tr>\n",
       "      <th>count</th>\n",
       "      <td>200</td>\n",
       "      <td>200</td>\n",
       "      <td>200</td>\n",
       "      <td>200</td>\n",
       "      <td>200</td>\n",
       "    </tr>\n",
       "    <tr>\n",
       "      <th>unique</th>\n",
       "      <td>200</td>\n",
       "      <td>200</td>\n",
       "      <td>188</td>\n",
       "      <td>200</td>\n",
       "      <td>133</td>\n",
       "    </tr>\n",
       "    <tr>\n",
       "      <th>top</th>\n",
       "      <td>etremain2d</td>\n",
       "      <td>160.32.117.250</td>\n",
       "      <td>Squash - Guords</td>\n",
       "      <td>756.85</td>\n",
       "      <td>Ingredients: sugar</td>\n",
       "    </tr>\n",
       "    <tr>\n",
       "      <th>freq</th>\n",
       "      <td>1</td>\n",
       "      <td>1</td>\n",
       "      <td>2</td>\n",
       "      <td>1</td>\n",
       "      <td>7</td>\n",
       "    </tr>\n",
       "  </tbody>\n",
       "</table>\n",
       "</div>"
      ],
      "text/plain": [
       "          username      ip_address          product   price  \\\n",
       "count          200             200              200     200   \n",
       "unique         200             200              188     200   \n",
       "top     etremain2d  160.32.117.250  Squash - Guords  756.85   \n",
       "freq             1               1                2       1   \n",
       "\n",
       "                     infos  \n",
       "count                  200  \n",
       "unique                 133  \n",
       "top     Ingredients: sugar  \n",
       "freq                     7  "
      ]
     },
     "execution_count": 553,
     "metadata": {},
     "output_type": "execute_result"
    }
   ],
   "source": [
    "df.describe()"
   ]
  },
  {
   "cell_type": "markdown",
   "metadata": {},
   "source": [
    "#### Traitement de la colonne infos"
   ]
  },
  {
   "cell_type": "code",
   "execution_count": 554,
   "metadata": {},
   "outputs": [],
   "source": [
    "df[\"infos\"] = df[\"infos\"].str.lower().str.replace(',', '').str.split()"
   ]
  },
  {
   "cell_type": "code",
   "execution_count": 555,
   "metadata": {},
   "outputs": [],
   "source": [
    "words = df.infos.apply(lambda x: pd.value_counts(x)).sum(axis=0)"
   ]
  },
  {
   "cell_type": "markdown",
   "metadata": {},
   "source": [
    "Dans la liste de mots, nous pouvons voir que certains sont des ingrédients, d'autres non. Nous allons supprimer les mots qui ne nous intéressent pas."
   ]
  },
  {
   "cell_type": "code",
   "execution_count": 556,
   "metadata": {},
   "outputs": [
    {
     "data": {
      "text/plain": [
       "contain          63.0\n",
       "sugar           150.0\n",
       "may              63.0\n",
       "fish             84.0\n",
       "contains         60.0\n",
       "peanut           45.0\n",
       "and             169.0\n",
       "ingredients:     77.0\n",
       "mustard          40.0\n",
       "gluten           55.0\n",
       "egg              47.0\n",
       "milk             47.0\n",
       "soja             56.0\n",
       "dtype: float64"
      ]
     },
     "execution_count": 556,
     "metadata": {},
     "output_type": "execute_result"
    }
   ],
   "source": [
    "words"
   ]
  },
  {
   "cell_type": "code",
   "execution_count": 557,
   "metadata": {},
   "outputs": [],
   "source": [
    "list = ['may', 'contain', 'contains', 'and', 'ingredients:', 'gluten']\n",
    "df['infos'] = df['infos'].apply(\n",
    "    lambda x: [item for item in x if item not in list])"
   ]
  },
  {
   "cell_type": "code",
   "execution_count": 558,
   "metadata": {},
   "outputs": [],
   "source": [
    "dummies = pd.get_dummies(df['infos'].apply(pd.Series).stack()).sum(level=0)"
   ]
  },
  {
   "cell_type": "code",
   "execution_count": 559,
   "metadata": {},
   "outputs": [
    {
     "data": {
      "text/html": [
       "<div>\n",
       "<style scoped>\n",
       "    .dataframe tbody tr th:only-of-type {\n",
       "        vertical-align: middle;\n",
       "    }\n",
       "\n",
       "    .dataframe tbody tr th {\n",
       "        vertical-align: top;\n",
       "    }\n",
       "\n",
       "    .dataframe thead th {\n",
       "        text-align: right;\n",
       "    }\n",
       "</style>\n",
       "<table border=\"1\" class=\"dataframe\">\n",
       "  <thead>\n",
       "    <tr style=\"text-align: right;\">\n",
       "      <th></th>\n",
       "      <th>username</th>\n",
       "      <th>ip_address</th>\n",
       "      <th>product</th>\n",
       "      <th>price</th>\n",
       "      <th>egg</th>\n",
       "      <th>fish</th>\n",
       "      <th>milk</th>\n",
       "      <th>mustard</th>\n",
       "      <th>peanut</th>\n",
       "      <th>soja</th>\n",
       "      <th>sugar</th>\n",
       "    </tr>\n",
       "  </thead>\n",
       "  <tbody>\n",
       "    <tr>\n",
       "      <th>0</th>\n",
       "      <td>ldrover0</td>\n",
       "      <td>666.666.666.666</td>\n",
       "      <td>Clam - Cherrystone</td>\n",
       "      <td>712.8</td>\n",
       "      <td>0</td>\n",
       "      <td>0</td>\n",
       "      <td>0</td>\n",
       "      <td>0</td>\n",
       "      <td>0</td>\n",
       "      <td>0</td>\n",
       "      <td>1</td>\n",
       "    </tr>\n",
       "    <tr>\n",
       "      <th>1</th>\n",
       "      <td>kizakov1</td>\n",
       "      <td>nope</td>\n",
       "      <td>Soup - Campbells Bean Medley</td>\n",
       "      <td>379.26</td>\n",
       "      <td>0</td>\n",
       "      <td>1</td>\n",
       "      <td>0</td>\n",
       "      <td>0</td>\n",
       "      <td>1</td>\n",
       "      <td>0</td>\n",
       "      <td>0</td>\n",
       "    </tr>\n",
       "    <tr>\n",
       "      <th>2</th>\n",
       "      <td>abromet2</td>\n",
       "      <td>240.177.79.234</td>\n",
       "      <td>Island Oasis - Lemonade</td>\n",
       "      <td>305.96</td>\n",
       "      <td>0</td>\n",
       "      <td>1</td>\n",
       "      <td>0</td>\n",
       "      <td>1</td>\n",
       "      <td>0</td>\n",
       "      <td>0</td>\n",
       "      <td>0</td>\n",
       "    </tr>\n",
       "    <tr>\n",
       "      <th>4</th>\n",
       "      <td>mbuckney4</td>\n",
       "      <td>58.90.204.239</td>\n",
       "      <td>Radish - Pickled</td>\n",
       "      <td>949.79</td>\n",
       "      <td>1</td>\n",
       "      <td>1</td>\n",
       "      <td>0</td>\n",
       "      <td>0</td>\n",
       "      <td>0</td>\n",
       "      <td>0</td>\n",
       "      <td>1</td>\n",
       "    </tr>\n",
       "    <tr>\n",
       "      <th>5</th>\n",
       "      <td>bsnozzwell5</td>\n",
       "      <td>226.52.32.70</td>\n",
       "      <td>Oil - Sesame</td>\n",
       "      <td>354.33 MGA</td>\n",
       "      <td>0</td>\n",
       "      <td>0</td>\n",
       "      <td>1</td>\n",
       "      <td>0</td>\n",
       "      <td>0</td>\n",
       "      <td>0</td>\n",
       "      <td>1</td>\n",
       "    </tr>\n",
       "  </tbody>\n",
       "</table>\n",
       "</div>"
      ],
      "text/plain": [
       "      username       ip_address                       product       price  \\\n",
       "0     ldrover0  666.666.666.666            Clam - Cherrystone       712.8   \n",
       "1     kizakov1             nope  Soup - Campbells Bean Medley      379.26   \n",
       "2     abromet2   240.177.79.234       Island Oasis - Lemonade      305.96   \n",
       "4    mbuckney4    58.90.204.239              Radish - Pickled      949.79   \n",
       "5  bsnozzwell5     226.52.32.70                  Oil - Sesame  354.33 MGA   \n",
       "\n",
       "   egg  fish  milk  mustard  peanut  soja  sugar  \n",
       "0    0     0     0        0       0     0      1  \n",
       "1    0     1     0        0       1     0      0  \n",
       "2    0     1     0        1       0     0      0  \n",
       "4    1     1     0        0       0     0      1  \n",
       "5    0     0     1        0       0     0      1  "
      ]
     },
     "execution_count": 559,
     "metadata": {},
     "output_type": "execute_result"
    }
   ],
   "source": [
    "df = df.merge(dummies, left_index=True, right_index=True)\n",
    "df = df.drop(\"infos\", axis=1)\n",
    "df.head()"
   ]
  },
  {
   "cell_type": "markdown",
   "metadata": {},
   "source": [
    "#### Traitement de la colonne price"
   ]
  },
  {
   "cell_type": "code",
   "execution_count": 560,
   "metadata": {},
   "outputs": [],
   "source": [
    "new = df[\"price\"].str.split(\" \", n = 1, expand = True) "
   ]
  },
  {
   "cell_type": "code",
   "execution_count": 561,
   "metadata": {},
   "outputs": [],
   "source": [
    "df[\"price\"] = new[0]\n",
    "df[\"currency\"] = new[1]"
   ]
  },
  {
   "cell_type": "code",
   "execution_count": 562,
   "metadata": {},
   "outputs": [
    {
     "data": {
      "text/html": [
       "<div>\n",
       "<style scoped>\n",
       "    .dataframe tbody tr th:only-of-type {\n",
       "        vertical-align: middle;\n",
       "    }\n",
       "\n",
       "    .dataframe tbody tr th {\n",
       "        vertical-align: top;\n",
       "    }\n",
       "\n",
       "    .dataframe thead th {\n",
       "        text-align: right;\n",
       "    }\n",
       "</style>\n",
       "<table border=\"1\" class=\"dataframe\">\n",
       "  <thead>\n",
       "    <tr style=\"text-align: right;\">\n",
       "      <th></th>\n",
       "      <th>username</th>\n",
       "      <th>ip_address</th>\n",
       "      <th>product</th>\n",
       "      <th>price</th>\n",
       "      <th>egg</th>\n",
       "      <th>fish</th>\n",
       "      <th>milk</th>\n",
       "      <th>mustard</th>\n",
       "      <th>peanut</th>\n",
       "      <th>soja</th>\n",
       "      <th>sugar</th>\n",
       "      <th>currency</th>\n",
       "    </tr>\n",
       "  </thead>\n",
       "  <tbody>\n",
       "    <tr>\n",
       "      <th>0</th>\n",
       "      <td>ldrover0</td>\n",
       "      <td>666.666.666.666</td>\n",
       "      <td>Clam - Cherrystone</td>\n",
       "      <td>712.8</td>\n",
       "      <td>0</td>\n",
       "      <td>0</td>\n",
       "      <td>0</td>\n",
       "      <td>0</td>\n",
       "      <td>0</td>\n",
       "      <td>0</td>\n",
       "      <td>1</td>\n",
       "      <td>None</td>\n",
       "    </tr>\n",
       "    <tr>\n",
       "      <th>1</th>\n",
       "      <td>kizakov1</td>\n",
       "      <td>nope</td>\n",
       "      <td>Soup - Campbells Bean Medley</td>\n",
       "      <td>379.26</td>\n",
       "      <td>0</td>\n",
       "      <td>1</td>\n",
       "      <td>0</td>\n",
       "      <td>0</td>\n",
       "      <td>1</td>\n",
       "      <td>0</td>\n",
       "      <td>0</td>\n",
       "      <td>None</td>\n",
       "    </tr>\n",
       "    <tr>\n",
       "      <th>2</th>\n",
       "      <td>abromet2</td>\n",
       "      <td>240.177.79.234</td>\n",
       "      <td>Island Oasis - Lemonade</td>\n",
       "      <td>305.96</td>\n",
       "      <td>0</td>\n",
       "      <td>1</td>\n",
       "      <td>0</td>\n",
       "      <td>1</td>\n",
       "      <td>0</td>\n",
       "      <td>0</td>\n",
       "      <td>0</td>\n",
       "      <td>None</td>\n",
       "    </tr>\n",
       "    <tr>\n",
       "      <th>4</th>\n",
       "      <td>mbuckney4</td>\n",
       "      <td>58.90.204.239</td>\n",
       "      <td>Radish - Pickled</td>\n",
       "      <td>949.79</td>\n",
       "      <td>1</td>\n",
       "      <td>1</td>\n",
       "      <td>0</td>\n",
       "      <td>0</td>\n",
       "      <td>0</td>\n",
       "      <td>0</td>\n",
       "      <td>1</td>\n",
       "      <td>None</td>\n",
       "    </tr>\n",
       "    <tr>\n",
       "      <th>5</th>\n",
       "      <td>bsnozzwell5</td>\n",
       "      <td>226.52.32.70</td>\n",
       "      <td>Oil - Sesame</td>\n",
       "      <td>354.33</td>\n",
       "      <td>0</td>\n",
       "      <td>0</td>\n",
       "      <td>1</td>\n",
       "      <td>0</td>\n",
       "      <td>0</td>\n",
       "      <td>0</td>\n",
       "      <td>1</td>\n",
       "      <td>MGA</td>\n",
       "    </tr>\n",
       "  </tbody>\n",
       "</table>\n",
       "</div>"
      ],
      "text/plain": [
       "      username       ip_address                       product   price  egg  \\\n",
       "0     ldrover0  666.666.666.666            Clam - Cherrystone   712.8    0   \n",
       "1     kizakov1             nope  Soup - Campbells Bean Medley  379.26    0   \n",
       "2     abromet2   240.177.79.234       Island Oasis - Lemonade  305.96    0   \n",
       "4    mbuckney4    58.90.204.239              Radish - Pickled  949.79    1   \n",
       "5  bsnozzwell5     226.52.32.70                  Oil - Sesame  354.33    0   \n",
       "\n",
       "   fish  milk  mustard  peanut  soja  sugar currency  \n",
       "0     0     0        0       0     0      1     None  \n",
       "1     1     0        0       1     0      0     None  \n",
       "2     1     0        1       0     0      0     None  \n",
       "4     1     0        0       0     0      1     None  \n",
       "5     0     1        0       0     0      1      MGA  "
      ]
     },
     "execution_count": 562,
     "metadata": {},
     "output_type": "execute_result"
    }
   ],
   "source": [
    "df.head()"
   ]
  },
  {
   "cell_type": "code",
   "execution_count": 563,
   "metadata": {},
   "outputs": [],
   "source": [
    "def f(row):\n",
    "    if row['currency'] == None:\n",
    "        url = 'https://ipapi.co/' + row['ip_address'] + '/currency/'\n",
    "        val = get(url).text\n",
    "    else:\n",
    "        val = row['currency']\n",
    "    return val"
   ]
  },
  {
   "cell_type": "code",
   "execution_count": 564,
   "metadata": {},
   "outputs": [],
   "source": [
    "df['estimated_currency'] = df.apply(f, axis = 1)"
   ]
  },
  {
   "cell_type": "code",
   "execution_count": 565,
   "metadata": {},
   "outputs": [],
   "source": [
    "url = 'https://api.exchangerate-api.com/v4/latest/EUR'\n",
    "response = rq.get(url)\n",
    "data = response.json()\n",
    "table_rates = data['rates']"
   ]
  },
  {
   "cell_type": "code",
   "execution_count": 566,
   "metadata": {},
   "outputs": [],
   "source": [
    "def g(row):\n",
    "    if row['estimated_currency'] == 'Undefined':\n",
    "        val = 'None'\n",
    "    else:\n",
    "        curr = row['estimated_currency']\n",
    "        val = 'None'\n",
    "        if curr in table_rates.keys():\n",
    "            rates_chg = table_rates[curr]\n",
    "            val = float(row['price']) / float(rates_chg)\n",
    "    return val"
   ]
  },
  {
   "cell_type": "code",
   "execution_count": 567,
   "metadata": {},
   "outputs": [],
   "source": [
    "df['price_eur'] = df.apply(g, axis=1)"
   ]
  },
  {
   "cell_type": "code",
   "execution_count": 568,
   "metadata": {},
   "outputs": [],
   "source": [
    "df = df.drop([\"currency\",\"estimated_currency\"], axis=1)"
   ]
  },
  {
   "cell_type": "code",
   "execution_count": 569,
   "metadata": {},
   "outputs": [
    {
     "data": {
      "text/html": [
       "<div>\n",
       "<style scoped>\n",
       "    .dataframe tbody tr th:only-of-type {\n",
       "        vertical-align: middle;\n",
       "    }\n",
       "\n",
       "    .dataframe tbody tr th {\n",
       "        vertical-align: top;\n",
       "    }\n",
       "\n",
       "    .dataframe thead th {\n",
       "        text-align: right;\n",
       "    }\n",
       "</style>\n",
       "<table border=\"1\" class=\"dataframe\">\n",
       "  <thead>\n",
       "    <tr style=\"text-align: right;\">\n",
       "      <th></th>\n",
       "      <th>username</th>\n",
       "      <th>ip_address</th>\n",
       "      <th>product</th>\n",
       "      <th>price</th>\n",
       "      <th>egg</th>\n",
       "      <th>fish</th>\n",
       "      <th>milk</th>\n",
       "      <th>mustard</th>\n",
       "      <th>peanut</th>\n",
       "      <th>soja</th>\n",
       "      <th>sugar</th>\n",
       "      <th>price_eur</th>\n",
       "    </tr>\n",
       "  </thead>\n",
       "  <tbody>\n",
       "    <tr>\n",
       "      <th>0</th>\n",
       "      <td>ldrover0</td>\n",
       "      <td>666.666.666.666</td>\n",
       "      <td>Clam - Cherrystone</td>\n",
       "      <td>712.8</td>\n",
       "      <td>0</td>\n",
       "      <td>0</td>\n",
       "      <td>0</td>\n",
       "      <td>0</td>\n",
       "      <td>0</td>\n",
       "      <td>0</td>\n",
       "      <td>1</td>\n",
       "      <td>None</td>\n",
       "    </tr>\n",
       "    <tr>\n",
       "      <th>1</th>\n",
       "      <td>kizakov1</td>\n",
       "      <td>nope</td>\n",
       "      <td>Soup - Campbells Bean Medley</td>\n",
       "      <td>379.26</td>\n",
       "      <td>0</td>\n",
       "      <td>1</td>\n",
       "      <td>0</td>\n",
       "      <td>0</td>\n",
       "      <td>1</td>\n",
       "      <td>0</td>\n",
       "      <td>0</td>\n",
       "      <td>None</td>\n",
       "    </tr>\n",
       "    <tr>\n",
       "      <th>2</th>\n",
       "      <td>abromet2</td>\n",
       "      <td>240.177.79.234</td>\n",
       "      <td>Island Oasis - Lemonade</td>\n",
       "      <td>305.96</td>\n",
       "      <td>0</td>\n",
       "      <td>1</td>\n",
       "      <td>0</td>\n",
       "      <td>1</td>\n",
       "      <td>0</td>\n",
       "      <td>0</td>\n",
       "      <td>0</td>\n",
       "      <td>None</td>\n",
       "    </tr>\n",
       "    <tr>\n",
       "      <th>4</th>\n",
       "      <td>mbuckney4</td>\n",
       "      <td>58.90.204.239</td>\n",
       "      <td>Radish - Pickled</td>\n",
       "      <td>949.79</td>\n",
       "      <td>1</td>\n",
       "      <td>1</td>\n",
       "      <td>0</td>\n",
       "      <td>0</td>\n",
       "      <td>0</td>\n",
       "      <td>0</td>\n",
       "      <td>1</td>\n",
       "      <td>7.8543</td>\n",
       "    </tr>\n",
       "    <tr>\n",
       "      <th>5</th>\n",
       "      <td>bsnozzwell5</td>\n",
       "      <td>226.52.32.70</td>\n",
       "      <td>Oil - Sesame</td>\n",
       "      <td>354.33</td>\n",
       "      <td>0</td>\n",
       "      <td>0</td>\n",
       "      <td>1</td>\n",
       "      <td>0</td>\n",
       "      <td>0</td>\n",
       "      <td>0</td>\n",
       "      <td>1</td>\n",
       "      <td>None</td>\n",
       "    </tr>\n",
       "  </tbody>\n",
       "</table>\n",
       "</div>"
      ],
      "text/plain": [
       "      username       ip_address                       product   price  egg  \\\n",
       "0     ldrover0  666.666.666.666            Clam - Cherrystone   712.8    0   \n",
       "1     kizakov1             nope  Soup - Campbells Bean Medley  379.26    0   \n",
       "2     abromet2   240.177.79.234       Island Oasis - Lemonade  305.96    0   \n",
       "4    mbuckney4    58.90.204.239              Radish - Pickled  949.79    1   \n",
       "5  bsnozzwell5     226.52.32.70                  Oil - Sesame  354.33    0   \n",
       "\n",
       "   fish  milk  mustard  peanut  soja  sugar price_eur  \n",
       "0     0     0        0       0     0      1      None  \n",
       "1     1     0        0       1     0      0      None  \n",
       "2     1     0        1       0     0      0      None  \n",
       "4     1     0        0       0     0      1    7.8543  \n",
       "5     0     1        0       0     0      1      None  "
      ]
     },
     "execution_count": 569,
     "metadata": {},
     "output_type": "execute_result"
    }
   ],
   "source": [
    "df.head()"
   ]
  }
 ],
 "metadata": {
  "kernelspec": {
   "display_name": "Python 3",
   "language": "python",
   "name": "python3"
  },
  "varInspector": {
   "cols": {
    "lenName": 16,
    "lenType": 16,
    "lenVar": 40
   },
   "kernels_config": {
    "python": {
     "delete_cmd_postfix": "",
     "delete_cmd_prefix": "del ",
     "library": "var_list.py",
     "varRefreshCmd": "print(var_dic_list())"
    },
    "r": {
     "delete_cmd_postfix": ") ",
     "delete_cmd_prefix": "rm(",
     "library": "var_list.r",
     "varRefreshCmd": "cat(var_dic_list()) "
    }
   },
   "types_to_exclude": [
    "module",
    "function",
    "builtin_function_or_method",
    "instance",
    "_Feature"
   ],
   "window_display": false
  }
 },
 "nbformat": 4,
 "nbformat_minor": 2
}
