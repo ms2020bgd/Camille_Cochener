{
 "cells": [
  {
   "cell_type": "markdown",
   "metadata": {},
   "source": [
    "<div align='center'><h2>Exercices Cours Lesson 6</h2></div>"
   ]
  },
  {
   "cell_type": "markdown",
   "metadata": {},
   "source": [
    "**Importation des librairies**"
   ]
  },
  {
   "cell_type": "code",
   "execution_count": 135,
   "metadata": {},
   "outputs": [],
   "source": [
    "import pandas as pd"
   ]
  },
  {
   "cell_type": "markdown",
   "metadata": {},
   "source": [
    "**Chargement des jeu de données**"
   ]
  },
  {
   "cell_type": "code",
   "execution_count": 136,
   "metadata": {},
   "outputs": [],
   "source": [
    "pop_com = pd.read_csv(\"population_communes.csv\")\n",
    "pop_dep = pd.read_csv(\"surface_departements.csv\")"
   ]
  },
  {
   "cell_type": "markdown",
   "metadata": {},
   "source": [
    "A partir des datasets 'population_communes.csv' et 'surface_departements.csv', créer un nouveau dataset qui contient une ligne par département, avec ces colonnes : \n",
    "* la somme des \"Population municipale\" du département\n",
    "* la somme des \"Population totale\" du département\n",
    "* la part (en pourcentage) de la population municipale par rapport à la population totale\n",
    "* la part (en pourcentage) de la population (municipale) du département au sein de sa région\n",
    "* la densité de la population (municipale) en nb d'habitants / km2"
   ]
  },
  {
   "cell_type": "code",
   "execution_count": 137,
   "metadata": {},
   "outputs": [],
   "source": [
    "df = pop_com.groupby(['Code région', 'Code département', 'variable']).sum().reset_index()[['Code département', 'Code région', 'variable', 'value']]"
   ]
  },
  {
   "cell_type": "code",
   "execution_count": 138,
   "metadata": {},
   "outputs": [],
   "source": [
    "df = pd.pivot_table(df, values = 'value', index = ['Code département', 'Code région'], columns = 'variable')"
   ]
  },
  {
   "cell_type": "code",
   "execution_count": 139,
   "metadata": {},
   "outputs": [
    {
     "data": {
      "text/html": [
       "<div>\n",
       "<style scoped>\n",
       "    .dataframe tbody tr th:only-of-type {\n",
       "        vertical-align: middle;\n",
       "    }\n",
       "\n",
       "    .dataframe tbody tr th {\n",
       "        vertical-align: top;\n",
       "    }\n",
       "\n",
       "    .dataframe thead th {\n",
       "        text-align: right;\n",
       "    }\n",
       "</style>\n",
       "<table border=\"1\" class=\"dataframe\">\n",
       "  <thead>\n",
       "    <tr style=\"text-align: right;\">\n",
       "      <th></th>\n",
       "      <th>variable</th>\n",
       "      <th>Population municipale</th>\n",
       "      <th>Population totale</th>\n",
       "    </tr>\n",
       "    <tr>\n",
       "      <th>Code département</th>\n",
       "      <th>Code région</th>\n",
       "      <th></th>\n",
       "      <th></th>\n",
       "    </tr>\n",
       "  </thead>\n",
       "  <tbody>\n",
       "    <tr>\n",
       "      <th>01</th>\n",
       "      <th>84</th>\n",
       "      <td>638425</td>\n",
       "      <td>655171</td>\n",
       "    </tr>\n",
       "    <tr>\n",
       "      <th>02</th>\n",
       "      <th>32</th>\n",
       "      <td>536136</td>\n",
       "      <td>549587</td>\n",
       "    </tr>\n",
       "    <tr>\n",
       "      <th>03</th>\n",
       "      <th>84</th>\n",
       "      <td>339384</td>\n",
       "      <td>349336</td>\n",
       "    </tr>\n",
       "    <tr>\n",
       "      <th>04</th>\n",
       "      <th>93</th>\n",
       "      <td>162565</td>\n",
       "      <td>167331</td>\n",
       "    </tr>\n",
       "    <tr>\n",
       "      <th>05</th>\n",
       "      <th>93</th>\n",
       "      <td>141107</td>\n",
       "      <td>146148</td>\n",
       "    </tr>\n",
       "  </tbody>\n",
       "</table>\n",
       "</div>"
      ],
      "text/plain": [
       "variable                      Population municipale  Population totale\n",
       "Code département Code région                                          \n",
       "01               84                          638425             655171\n",
       "02               32                          536136             549587\n",
       "03               84                          339384             349336\n",
       "04               93                          162565             167331\n",
       "05               93                          141107             146148"
      ]
     },
     "execution_count": 139,
     "metadata": {},
     "output_type": "execute_result"
    }
   ],
   "source": [
    "df.head()"
   ]
  },
  {
   "cell_type": "code",
   "execution_count": 140,
   "metadata": {},
   "outputs": [],
   "source": [
    "df['Part M/T'] = (df['Population municipale'] / df['Population totale'])*100"
   ]
  },
  {
   "cell_type": "code",
   "execution_count": 141,
   "metadata": {},
   "outputs": [
    {
     "data": {
      "text/html": [
       "<div>\n",
       "<style scoped>\n",
       "    .dataframe tbody tr th:only-of-type {\n",
       "        vertical-align: middle;\n",
       "    }\n",
       "\n",
       "    .dataframe tbody tr th {\n",
       "        vertical-align: top;\n",
       "    }\n",
       "\n",
       "    .dataframe thead th {\n",
       "        text-align: right;\n",
       "    }\n",
       "</style>\n",
       "<table border=\"1\" class=\"dataframe\">\n",
       "  <thead>\n",
       "    <tr style=\"text-align: right;\">\n",
       "      <th></th>\n",
       "      <th>variable</th>\n",
       "      <th>Population municipale</th>\n",
       "      <th>Population totale</th>\n",
       "      <th>Part M/T</th>\n",
       "    </tr>\n",
       "    <tr>\n",
       "      <th>Code département</th>\n",
       "      <th>Code région</th>\n",
       "      <th></th>\n",
       "      <th></th>\n",
       "      <th></th>\n",
       "    </tr>\n",
       "  </thead>\n",
       "  <tbody>\n",
       "    <tr>\n",
       "      <th>01</th>\n",
       "      <th>84</th>\n",
       "      <td>638425</td>\n",
       "      <td>655171</td>\n",
       "      <td>97.444026</td>\n",
       "    </tr>\n",
       "    <tr>\n",
       "      <th>02</th>\n",
       "      <th>32</th>\n",
       "      <td>536136</td>\n",
       "      <td>549587</td>\n",
       "      <td>97.552526</td>\n",
       "    </tr>\n",
       "    <tr>\n",
       "      <th>03</th>\n",
       "      <th>84</th>\n",
       "      <td>339384</td>\n",
       "      <td>349336</td>\n",
       "      <td>97.151167</td>\n",
       "    </tr>\n",
       "    <tr>\n",
       "      <th>04</th>\n",
       "      <th>93</th>\n",
       "      <td>162565</td>\n",
       "      <td>167331</td>\n",
       "      <td>97.151753</td>\n",
       "    </tr>\n",
       "    <tr>\n",
       "      <th>05</th>\n",
       "      <th>93</th>\n",
       "      <td>141107</td>\n",
       "      <td>146148</td>\n",
       "      <td>96.550757</td>\n",
       "    </tr>\n",
       "  </tbody>\n",
       "</table>\n",
       "</div>"
      ],
      "text/plain": [
       "variable                      Population municipale  Population totale  \\\n",
       "Code département Code région                                             \n",
       "01               84                          638425             655171   \n",
       "02               32                          536136             549587   \n",
       "03               84                          339384             349336   \n",
       "04               93                          162565             167331   \n",
       "05               93                          141107             146148   \n",
       "\n",
       "variable                       Part M/T  \n",
       "Code département Code région             \n",
       "01               84           97.444026  \n",
       "02               32           97.552526  \n",
       "03               84           97.151167  \n",
       "04               93           97.151753  \n",
       "05               93           96.550757  "
      ]
     },
     "execution_count": 141,
     "metadata": {},
     "output_type": "execute_result"
    }
   ],
   "source": [
    "df.head()"
   ]
  },
  {
   "cell_type": "code",
   "execution_count": 142,
   "metadata": {},
   "outputs": [],
   "source": [
    "pop_region = df.groupby('Code région').transform('sum')['Population municipale']"
   ]
  },
  {
   "cell_type": "code",
   "execution_count": 143,
   "metadata": {},
   "outputs": [],
   "source": [
    "df['part_R'] = df['Population municipale'] / pop_region"
   ]
  },
  {
   "cell_type": "code",
   "execution_count": 144,
   "metadata": {},
   "outputs": [
    {
     "data": {
      "text/html": [
       "<div>\n",
       "<style scoped>\n",
       "    .dataframe tbody tr th:only-of-type {\n",
       "        vertical-align: middle;\n",
       "    }\n",
       "\n",
       "    .dataframe tbody tr th {\n",
       "        vertical-align: top;\n",
       "    }\n",
       "\n",
       "    .dataframe thead th {\n",
       "        text-align: right;\n",
       "    }\n",
       "</style>\n",
       "<table border=\"1\" class=\"dataframe\">\n",
       "  <thead>\n",
       "    <tr style=\"text-align: right;\">\n",
       "      <th></th>\n",
       "      <th>variable</th>\n",
       "      <th>Population municipale</th>\n",
       "      <th>Population totale</th>\n",
       "      <th>Part M/T</th>\n",
       "      <th>part_R</th>\n",
       "    </tr>\n",
       "    <tr>\n",
       "      <th>Code département</th>\n",
       "      <th>Code région</th>\n",
       "      <th></th>\n",
       "      <th></th>\n",
       "      <th></th>\n",
       "      <th></th>\n",
       "    </tr>\n",
       "  </thead>\n",
       "  <tbody>\n",
       "    <tr>\n",
       "      <th>01</th>\n",
       "      <th>84</th>\n",
       "      <td>638425</td>\n",
       "      <td>655171</td>\n",
       "      <td>97.444026</td>\n",
       "      <td>0.080641</td>\n",
       "    </tr>\n",
       "    <tr>\n",
       "      <th>02</th>\n",
       "      <th>32</th>\n",
       "      <td>536136</td>\n",
       "      <td>549587</td>\n",
       "      <td>97.552526</td>\n",
       "      <td>0.089254</td>\n",
       "    </tr>\n",
       "    <tr>\n",
       "      <th>03</th>\n",
       "      <th>84</th>\n",
       "      <td>339384</td>\n",
       "      <td>349336</td>\n",
       "      <td>97.151167</td>\n",
       "      <td>0.042868</td>\n",
       "    </tr>\n",
       "    <tr>\n",
       "      <th>04</th>\n",
       "      <th>93</th>\n",
       "      <td>162565</td>\n",
       "      <td>167331</td>\n",
       "      <td>97.151753</td>\n",
       "      <td>0.032371</td>\n",
       "    </tr>\n",
       "    <tr>\n",
       "      <th>05</th>\n",
       "      <th>93</th>\n",
       "      <td>141107</td>\n",
       "      <td>146148</td>\n",
       "      <td>96.550757</td>\n",
       "      <td>0.028098</td>\n",
       "    </tr>\n",
       "  </tbody>\n",
       "</table>\n",
       "</div>"
      ],
      "text/plain": [
       "variable                      Population municipale  Population totale  \\\n",
       "Code département Code région                                             \n",
       "01               84                          638425             655171   \n",
       "02               32                          536136             549587   \n",
       "03               84                          339384             349336   \n",
       "04               93                          162565             167331   \n",
       "05               93                          141107             146148   \n",
       "\n",
       "variable                       Part M/T    part_R  \n",
       "Code département Code région                       \n",
       "01               84           97.444026  0.080641  \n",
       "02               32           97.552526  0.089254  \n",
       "03               84           97.151167  0.042868  \n",
       "04               93           97.151753  0.032371  \n",
       "05               93           96.550757  0.028098  "
      ]
     },
     "execution_count": 144,
     "metadata": {},
     "output_type": "execute_result"
    }
   ],
   "source": [
    "df.head()"
   ]
  },
  {
   "cell_type": "code",
   "execution_count": 145,
   "metadata": {},
   "outputs": [],
   "source": [
    "df = pd.merge(df, pop_dep.rename(columns={'code_insee' : 'Code département'}), on= 'Code département')"
   ]
  },
  {
   "cell_type": "code",
   "execution_count": 146,
   "metadata": {},
   "outputs": [],
   "source": [
    "df['densite'] = df['Population municipale'] / df['surf_km2']"
   ]
  },
  {
   "cell_type": "code",
   "execution_count": 147,
   "metadata": {},
   "outputs": [],
   "source": [
    "df = df.drop(['nom', 'surf_km2'], axis = 1)"
   ]
  },
  {
   "cell_type": "code",
   "execution_count": 148,
   "metadata": {},
   "outputs": [
    {
     "data": {
      "text/html": [
       "<div>\n",
       "<style scoped>\n",
       "    .dataframe tbody tr th:only-of-type {\n",
       "        vertical-align: middle;\n",
       "    }\n",
       "\n",
       "    .dataframe tbody tr th {\n",
       "        vertical-align: top;\n",
       "    }\n",
       "\n",
       "    .dataframe thead th {\n",
       "        text-align: right;\n",
       "    }\n",
       "</style>\n",
       "<table border=\"1\" class=\"dataframe\">\n",
       "  <thead>\n",
       "    <tr style=\"text-align: right;\">\n",
       "      <th></th>\n",
       "      <th>Code département</th>\n",
       "      <th>Population municipale</th>\n",
       "      <th>Population totale</th>\n",
       "      <th>Part M/T</th>\n",
       "      <th>part_R</th>\n",
       "      <th>densite</th>\n",
       "    </tr>\n",
       "  </thead>\n",
       "  <tbody>\n",
       "    <tr>\n",
       "      <th>0</th>\n",
       "      <td>01</td>\n",
       "      <td>638425</td>\n",
       "      <td>655171</td>\n",
       "      <td>97.444026</td>\n",
       "      <td>0.080641</td>\n",
       "      <td>110.377766</td>\n",
       "    </tr>\n",
       "    <tr>\n",
       "      <th>1</th>\n",
       "      <td>02</td>\n",
       "      <td>536136</td>\n",
       "      <td>549587</td>\n",
       "      <td>97.552526</td>\n",
       "      <td>0.089254</td>\n",
       "      <td>72.343274</td>\n",
       "    </tr>\n",
       "    <tr>\n",
       "      <th>2</th>\n",
       "      <td>03</td>\n",
       "      <td>339384</td>\n",
       "      <td>349336</td>\n",
       "      <td>97.151167</td>\n",
       "      <td>0.042868</td>\n",
       "      <td>45.993224</td>\n",
       "    </tr>\n",
       "    <tr>\n",
       "      <th>3</th>\n",
       "      <td>04</td>\n",
       "      <td>162565</td>\n",
       "      <td>167331</td>\n",
       "      <td>97.151753</td>\n",
       "      <td>0.032371</td>\n",
       "      <td>23.246818</td>\n",
       "    </tr>\n",
       "    <tr>\n",
       "      <th>4</th>\n",
       "      <td>05</td>\n",
       "      <td>141107</td>\n",
       "      <td>146148</td>\n",
       "      <td>96.550757</td>\n",
       "      <td>0.028098</td>\n",
       "      <td>24.768650</td>\n",
       "    </tr>\n",
       "  </tbody>\n",
       "</table>\n",
       "</div>"
      ],
      "text/plain": [
       "  Code département  Population municipale  Population totale   Part M/T  \\\n",
       "0               01                 638425             655171  97.444026   \n",
       "1               02                 536136             549587  97.552526   \n",
       "2               03                 339384             349336  97.151167   \n",
       "3               04                 162565             167331  97.151753   \n",
       "4               05                 141107             146148  96.550757   \n",
       "\n",
       "     part_R     densite  \n",
       "0  0.080641  110.377766  \n",
       "1  0.089254   72.343274  \n",
       "2  0.042868   45.993224  \n",
       "3  0.032371   23.246818  \n",
       "4  0.028098   24.768650  "
      ]
     },
     "execution_count": 148,
     "metadata": {},
     "output_type": "execute_result"
    }
   ],
   "source": [
    "df.head()"
   ]
  }
 ],
 "metadata": {
  "kernelspec": {
   "display_name": "Python 3",
   "language": "python",
   "name": "python3"
  },
  "language_info": {
   "codemirror_mode": {
    "name": "ipython",
    "version": 3
   },
   "file_extension": ".py",
   "mimetype": "text/x-python",
   "name": "python",
   "nbconvert_exporter": "python",
   "pygments_lexer": "ipython3",
   "version": "3.6.5"
  },
  "varInspector": {
   "cols": {
    "lenName": 16,
    "lenType": 16,
    "lenVar": 40
   },
   "kernels_config": {
    "python": {
     "delete_cmd_postfix": "",
     "delete_cmd_prefix": "del ",
     "library": "var_list.py",
     "varRefreshCmd": "print(var_dic_list())"
    },
    "r": {
     "delete_cmd_postfix": ") ",
     "delete_cmd_prefix": "rm(",
     "library": "var_list.r",
     "varRefreshCmd": "cat(var_dic_list()) "
    }
   },
   "types_to_exclude": [
    "module",
    "function",
    "builtin_function_or_method",
    "instance",
    "_Feature"
   ],
   "window_display": false
  }
 },
 "nbformat": 4,
 "nbformat_minor": 2
}
